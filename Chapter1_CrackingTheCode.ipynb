{
  "nbformat": 4,
  "nbformat_minor": 0,
  "metadata": {
    "colab": {
      "name": "Chapter1_CrackingTheCode.ipynb",
      "provenance": [],
      "authorship_tag": "ABX9TyMoIQXTWwMB8EkYCGPZwwmg",
      "include_colab_link": true
    },
    "kernelspec": {
      "name": "python3",
      "display_name": "Python 3"
    },
    "language_info": {
      "name": "python"
    }
  },
  "cells": [
    {
      "cell_type": "markdown",
      "metadata": {
        "id": "view-in-github",
        "colab_type": "text"
      },
      "source": [
        "<a href=\"https://colab.research.google.com/github/pbhatt48/120-Data-Science-Interview-Questions/blob/master/Chapter1_CrackingTheCode.ipynb\" target=\"_parent\"><img src=\"https://colab.research.google.com/assets/colab-badge.svg\" alt=\"Open In Colab\"/></a>"
      ]
    },
    {
      "cell_type": "markdown",
      "metadata": {
        "id": "cFaqiZh_w-NL"
      },
      "source": [
        "1.1 Is Unique: Implement an algorithm to determine if a string has all unique characters. What if you cannot use additional data structures?\n"
      ]
    },
    {
      "cell_type": "code",
      "metadata": {
        "colab": {
          "base_uri": "https://localhost:8080/"
        },
        "id": "XbcuCPRxw_6r",
        "outputId": "1a936305-96ee-4adb-f9a1-1619bbcd808d"
      },
      "source": [
        "def uniqueCharacters(text):\n",
        "  return len(text) == set(text)\n",
        "\n",
        "uniqueCharacters(\"apple\")"
      ],
      "execution_count": 2,
      "outputs": [
        {
          "output_type": "execute_result",
          "data": {
            "text/plain": [
              "False"
            ]
          },
          "metadata": {
            "tags": []
          },
          "execution_count": 2
        }
      ]
    },
    {
      "cell_type": "code",
      "metadata": {
        "id": "RBNHnEPAxb0k"
      },
      "source": [
        ""
      ],
      "execution_count": null,
      "outputs": []
    },
    {
      "cell_type": "markdown",
      "metadata": {
        "id": "Euxv3C_3xzll"
      },
      "source": [
        "1.2 Check Permutation: Given two strings,write a method to decide if one is a permutation of the\n",
        "other."
      ]
    },
    {
      "cell_type": "code",
      "metadata": {
        "colab": {
          "base_uri": "https://localhost:8080/"
        },
        "id": "1PPQSZdWx12Z",
        "outputId": "a71ceeee-278d-4017-8641-4a99c65e8a4b"
      },
      "source": [
        "from collections import Counter\n",
        "\n",
        "def isPermutation(stringA, stringB):\n",
        "  return Counter(stringA) == Counter(stringB)\n",
        "\n",
        "print (isPermutation('abc','cba'))\n",
        "print (isPermutation('abc','bca'))\n",
        "print (isPermutation('abc','bcaa'))\n",
        "print (isPermutation('abc','bcax'))\n",
        "print (isPermutation('abc','b'))"
      ],
      "execution_count": 3,
      "outputs": [
        {
          "output_type": "stream",
          "text": [
            "True\n",
            "True\n",
            "False\n",
            "False\n",
            "False\n"
          ],
          "name": "stdout"
        }
      ]
    },
    {
      "cell_type": "code",
      "metadata": {
        "colab": {
          "base_uri": "https://localhost:8080/"
        },
        "id": "e4ydQqOsyCUB",
        "outputId": "b52342ec-369d-42d7-a441-9da820fd6a3f"
      },
      "source": [
        "def isPermutation(stringA, stringB):\n",
        "  return set(stringA) == set(stringB)\n",
        "\n",
        "\n",
        "print (isPermutation('abc','cba'))\n",
        "print (isPermutation('abc','bca'))\n",
        "print (isPermutation('abc','bcaa'))\n",
        "print (isPermutation('abc','bcax'))\n",
        "print (isPermutation('abc','b'))"
      ],
      "execution_count": 1,
      "outputs": [
        {
          "output_type": "stream",
          "text": [
            "True\n",
            "True\n",
            "True\n",
            "False\n",
            "False\n"
          ],
          "name": "stdout"
        }
      ]
    },
    {
      "cell_type": "code",
      "metadata": {
        "id": "-0LXAZsjEVOL"
      },
      "source": [
        ""
      ],
      "execution_count": null,
      "outputs": []
    },
    {
      "cell_type": "markdown",
      "metadata": {
        "id": "IrHGDe8RErYP"
      },
      "source": [
        "1.3 URLify: Write a method to replace all spaces in a string with '%20'. You may assume that the string has sufficient space at the end to hold the additional characters,and that you are given the \"true\" length of the string. (Note: If implementing in Java,please use a character array so that you can perform this operation in place.)"
      ]
    },
    {
      "cell_type": "code",
      "metadata": {
        "colab": {
          "base_uri": "https://localhost:8080/"
        },
        "id": "UP4mLdN-Etmw",
        "outputId": "4746ef75-c75d-48c9-fb70-825e3a516b96"
      },
      "source": [
        "def urlify(strA):\n",
        "  return strA.replace(' ', '%20')\n",
        "\n",
        "print (urlify('abab  abab aaaaaa '))"
      ],
      "execution_count": 2,
      "outputs": [
        {
          "output_type": "stream",
          "text": [
            "abab%20%20abab%20aaaaaa%20\n"
          ],
          "name": "stdout"
        }
      ]
    },
    {
      "cell_type": "code",
      "metadata": {
        "id": "6CehztUlFg6i"
      },
      "source": [
        ""
      ],
      "execution_count": 3,
      "outputs": []
    },
    {
      "cell_type": "markdown",
      "metadata": {
        "id": "NaLoU647F8O2"
      },
      "source": [
        "1.4 Palindrome Permutation: Given a string, write a function to check if it is a permutation of a palin­ drome. A palindrome is a word or phrase that is the same forwards and backwards. A permutation is a rearrangement of letters. The palindrome does not need to be limited to just dictionary words.\n",
        "EXAMPLE\n",
        "\n",
        "\n",
        "Input: Tact Coa\n",
        "\n",
        "Output: True (permutations: \"taco cat\", \"atco eta\", etc.)"
      ]
    },
    {
      "cell_type": "code",
      "metadata": {
        "colab": {
          "base_uri": "https://localhost:8080/"
        },
        "id": "CcUCpKRcFqwo",
        "outputId": "aa1cba31-773d-43e3-de97-b6bf8a3fa796"
      },
      "source": [
        "def isPerOfPalindrome(stringA):\n",
        "    Letters = {}\n",
        "    for char in stringA:\n",
        "        if char in Letters:\n",
        "            Letters[char] += 1\n",
        "        else:\n",
        "            Letters[char] = 1\n",
        "    odd = 0\n",
        "    for count in Letters.values():\n",
        "        if count%2 > 0:\n",
        "            odd += 1\n",
        "            if odd > 1:\n",
        "                return False\n",
        "    return True\n",
        "\n",
        "    \n",
        "print (isPerOfPalindrome('racecar'))\n",
        "print (isPerOfPalindrome('recar'))\n",
        "print (isPerOfPalindrome('rcecar'))\n",
        "print (isPerOfPalindrome('rr'))\n",
        "print (isPerOfPalindrome(''))"
      ],
      "execution_count": 4,
      "outputs": [
        {
          "output_type": "stream",
          "text": [
            "True\n",
            "False\n",
            "False\n",
            "True\n",
            "True\n"
          ],
          "name": "stdout"
        }
      ]
    },
    {
      "cell_type": "code",
      "metadata": {
        "colab": {
          "base_uri": "https://localhost:8080/"
        },
        "id": "hOL0jQJjGjYB",
        "outputId": "82f10ca5-f2fa-49b9-b16c-cf5c18b79a97"
      },
      "source": [
        "def isPerOfPalindrome(stringA):\n",
        "  lg = len(stringA)\n",
        "  m ={}\n",
        "  for i in range(lg):\n",
        "    if stringA[i] not in m:\n",
        "      m[stringA[i]] = 1\n",
        "    else:\n",
        "      m[stringA[i]] += 1\n",
        "\n",
        "  counter_odd = 0\n",
        "  m_vals_len = sum(m.values())\n",
        "  for val in m.values():\n",
        "    if m_vals_len % 2 == 0:\n",
        "      if val % 2 != 0: return False\n",
        "    \n",
        "    if m_vals_len %2 == 1:\n",
        "      if val %2 == 1: \n",
        "        counter_odd += 1\n",
        "        if counter_odd >1: return False\n",
        "  \n",
        "  return True\n",
        "\n",
        "\n",
        "\n",
        "print (isPerOfPalindrome('racecar'))\n",
        "print (isPerOfPalindrome('recar'))\n",
        "print (isPerOfPalindrome('rcecar'))\n",
        "print (isPerOfPalindrome('rr'))\n",
        "print (isPerOfPalindrome(''))"
      ],
      "execution_count": 24,
      "outputs": [
        {
          "output_type": "stream",
          "text": [
            "True\n",
            "False\n",
            "False\n",
            "True\n",
            "True\n"
          ],
          "name": "stdout"
        }
      ]
    },
    {
      "cell_type": "code",
      "metadata": {
        "colab": {
          "base_uri": "https://localhost:8080/"
        },
        "id": "YouchHCMRZ5r",
        "outputId": "8761652d-7f43-473a-f819-99208b70dd8f"
      },
      "source": [
        "m = {'r': 2, 'a': 2, 'c': 2, 'e': 1}\n",
        "print(m.values())\n",
        "print(m.keys())\n",
        "print(m)\n",
        "print(sum(m.values()))\n",
        "print(m.items())"
      ],
      "execution_count": 23,
      "outputs": [
        {
          "output_type": "stream",
          "text": [
            "dict_values([2, 2, 2, 1])\n",
            "dict_keys(['r', 'a', 'c', 'e'])\n",
            "{'r': 2, 'a': 2, 'c': 2, 'e': 1}\n",
            "7\n",
            "dict_items([('r', 2), ('a', 2), ('c', 2), ('e', 1)])\n"
          ],
          "name": "stdout"
        }
      ]
    },
    {
      "cell_type": "code",
      "metadata": {
        "colab": {
          "base_uri": "https://localhost:8080/"
        },
        "id": "NWbT0G6gTGgB",
        "outputId": "27b535b7-87a1-4bb0-d4bd-263c2bf70d5c"
      },
      "source": [
        "4%2"
      ],
      "execution_count": 7,
      "outputs": [
        {
          "output_type": "execute_result",
          "data": {
            "text/plain": [
              "0"
            ]
          },
          "metadata": {
            "tags": []
          },
          "execution_count": 7
        }
      ]
    },
    {
      "cell_type": "markdown",
      "metadata": {
        "id": "R7vV8Hy4a9QY"
      },
      "source": [
        "One Away: There are three types of edits that can be performed on strings: insert a character, remove a character, or replace a character. Given two strings, write a function to check if they are one edit (or zero edits) away.\n",
        "\n",
        "EXAMPLE\n",
        "\n",
        "pale, ple -> true\n",
        "\n",
        "pales, pale -> true\n",
        "\n",
        "pale, bale -> true\n",
        "\n",
        "pale, bake -> false"
      ]
    },
    {
      "cell_type": "code",
      "metadata": {
        "colab": {
          "base_uri": "https://localhost:8080/"
        },
        "id": "oyv90MAtTJAx",
        "outputId": "6dc0c276-79c5-4aab-f895-5c70d99a8247"
      },
      "source": [
        "def createMap(val):\n",
        "  m = {}\n",
        "  for i in range(len(val)):\n",
        "    if val[i] not in m:\n",
        "      m[val[i]] = 1\n",
        "    else:\n",
        "      m[val[i]] += 1\n",
        "\n",
        "  return m\n",
        "def oneAway(strQ, strA):\n",
        "  strA_map = createMap(strA)\n",
        "  strQ_map = createMap(strQ)\n",
        "  counter = 0\n",
        "  for i in strA_map:\n",
        "    if i not in strQ_map:\n",
        "      counter += 1\n",
        "  print(\"Counter == \", counter)\n",
        "  if counter >1: return False \n",
        "  return True \n",
        "\n",
        "\n",
        "print(oneAway('pale', 'ple'))\n",
        "print(oneAway('pales', 'pale'))\n",
        "print(oneAway('pales', 'bale'))\n",
        "print(oneAway('pales', 'bake'))\n",
        "print()\n"
      ],
      "execution_count": 36,
      "outputs": [
        {
          "output_type": "stream",
          "text": [
            "Counter ==  0\n",
            "True\n",
            "Counter ==  0\n",
            "True\n",
            "Counter ==  1\n",
            "True\n",
            "Counter ==  2\n",
            "False\n",
            "\n"
          ],
          "name": "stdout"
        }
      ]
    },
    {
      "cell_type": "code",
      "metadata": {
        "colab": {
          "base_uri": "https://localhost:8080/"
        },
        "id": "H47TBruDbT7L",
        "outputId": "25024fcf-b4a9-4c6c-a1ea-1cfd42bf3c2e"
      },
      "source": [
        "'r' in {'r': 2, 'a': 2, 'c': 2, 'e': 1}"
      ],
      "execution_count": 30,
      "outputs": [
        {
          "output_type": "execute_result",
          "data": {
            "text/plain": [
              "True"
            ]
          },
          "metadata": {
            "tags": []
          },
          "execution_count": 30
        }
      ]
    },
    {
      "cell_type": "code",
      "metadata": {
        "id": "KIVURFl9q1Kq"
      },
      "source": [
        ""
      ],
      "execution_count": null,
      "outputs": []
    },
    {
      "cell_type": "markdown",
      "metadata": {
        "id": "kNfvXuiytqC0"
      },
      "source": [
        "1.6 String Compression: Implement a method to perform basic string compression using the counts of repeated characters. For example, the string aabcccccaaa would become a2blc5a3. If the \"compressed\" string would not become smaller than the original string, your method should return\n",
        "the original string. You can assume the string has only uppercase and lowercase letters (a - z)."
      ]
    },
    {
      "cell_type": "code",
      "metadata": {
        "colab": {
          "base_uri": "https://localhost:8080/"
        },
        "id": "5cdu_fMitspZ",
        "outputId": "7482391d-8310-4f05-8cf9-ae1a46fe2a82"
      },
      "source": [
        "def stringCompression(strA):\n",
        "  m={}\n",
        "  for i in range(len(strA)):\n",
        "    if strA[i] not in m:\n",
        "      m[strA[i]] = 1\n",
        "    else: m[strA[i]] += 1\n",
        "  str_val =''\n",
        "  for i in m:\n",
        "    str_val = str_val + i +str(m[i])\n",
        "  return str_val\n",
        "\n",
        "print(stringCompression('aabcccccaaa'))\n"
      ],
      "execution_count": 39,
      "outputs": [
        {
          "output_type": "stream",
          "text": [
            "a5b1c5\n"
          ],
          "name": "stdout"
        }
      ]
    },
    {
      "cell_type": "code",
      "metadata": {
        "colab": {
          "base_uri": "https://localhost:8080/"
        },
        "id": "rw0gKYIVulmp",
        "outputId": "2d0f05f6-d788-4648-d8b3-e291d0d8c6a3"
      },
      "source": [
        "def stringCompression(strA):\n",
        "  lg = len(strA)\n",
        "  prev_str= strA[0]\n",
        "  str_val =''\n",
        "  counter = 0\n",
        "  for i in range(lg):\n",
        "    if strA[i] == prev_str:\n",
        "      counter += 1\n",
        "    else:\n",
        "      if counter == 1: str_val = str_val + prev_str\n",
        "      else: str_val = str_val + prev_str + str(counter)\n",
        "      counter = 1\n",
        "      prev_str = strA[i]\n",
        "\n",
        "  if counter == 1: str_val = str_val + prev_str\n",
        "  else: str_val = str_val + prev_str + str(counter)\n",
        "\n",
        "\n",
        "  if len(strA) == len(str_val): return strA\n",
        "  return str_val\n",
        "\n",
        "print(stringCompression('aabcccccaaa'))\n",
        "print(stringCompression('aabcd'))"
      ],
      "execution_count": 48,
      "outputs": [
        {
          "output_type": "stream",
          "text": [
            "a2bc5a3\n",
            "aabcd\n"
          ],
          "name": "stdout"
        }
      ]
    },
    {
      "cell_type": "code",
      "metadata": {
        "id": "IIz9P5Gsw06J"
      },
      "source": [
        ""
      ],
      "execution_count": null,
      "outputs": []
    }
  ]
}