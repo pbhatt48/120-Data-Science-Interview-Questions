{
  "nbformat": 4,
  "nbformat_minor": 0,
  "metadata": {
    "colab": {
      "name": "MatrixProblems.ipynb",
      "provenance": [],
      "authorship_tag": "ABX9TyP4euIIu4bpujC/okTCYN6o",
      "include_colab_link": true
    },
    "kernelspec": {
      "name": "python3",
      "display_name": "Python 3"
    },
    "language_info": {
      "name": "python"
    }
  },
  "cells": [
    {
      "cell_type": "markdown",
      "metadata": {
        "id": "view-in-github",
        "colab_type": "text"
      },
      "source": [
        "<a href=\"https://colab.research.google.com/github/pbhatt48/120-Data-Science-Interview-Questions/blob/master/MatrixProblems.ipynb\" target=\"_parent\"><img src=\"https://colab.research.google.com/assets/colab-badge.svg\" alt=\"Open In Colab\"/></a>"
      ]
    },
    {
      "cell_type": "code",
      "metadata": {
        "colab": {
          "base_uri": "https://localhost:8080/"
        },
        "id": "1Oma-OWD_9Us",
        "outputId": "596e9835-7238-4dd6-d51c-8b65c924632f"
      },
      "source": [
        "#####\n",
        "'''\n",
        "  \n",
        "  [\n",
        "    [1, 2, 3, 4],\n",
        "    [5, 6, 7, 8],\n",
        "    [0, 8, 7, 1]\n",
        "  ] \n",
        "  \n",
        "  M x n\n",
        "  \n",
        "  1, 2, 3, 4, 8, 1, 7, 8, 0, 5, 6, 7\n",
        "'''\n",
        "\n",
        "import math\n",
        "class Traverse:\n",
        "  def rotate90(self, x):\n",
        "    no_of_rows = len(x) -1\n",
        "    no_of_columns = len(x[0]) -1\n",
        "    #print(no_of_rows, no_of_columns)\n",
        "    y=[]\n",
        "\n",
        "    start_row = 0\n",
        "    start_column = 0 \n",
        "    end_row = no_of_rows \n",
        "    end_column = no_of_columns \n",
        "\n",
        "    layer = math.ceil(len(x)/2)\n",
        "    #print(\"layer == \", layer)\n",
        "\n",
        "    while layer > 0:\n",
        "\n",
        "      for i in range(start_column, end_column+1):\n",
        "        #print(\"x , y 1== \", start_column, i)\n",
        "        y.append(x[start_column][i])\n",
        "        #print(\"Y VAL 1 == \", y)\n",
        "\n",
        "      start_row += 1\n",
        "      #print(\"Layer check == \", layer)\n",
        "\n",
        "      if start_row > end_row: break\n",
        "\n",
        "      #print(\"start_row, end_row == \", start_row, end_row)\n",
        "\n",
        "      for j in range(start_row, end_row+1):\n",
        "        #print(\"x , y 2== \", j, end_column)\n",
        "        y.append(x[j][end_column])\n",
        "        #print(\"Y VAL 2 == \", y)\n",
        "\n",
        "      end_column -= 1\n",
        "      \n",
        "      for k in range(end_column, start_column -1, -1):\n",
        "        #print(\"x , y 3 == \", end_row, k)\n",
        "        y.append(x[end_row][k])\n",
        "        #print(\"Y VAL 3 == \", y)\n",
        "\n",
        "      end_row -= 1\n",
        "\n",
        "      for l in range(end_row, start_row -1, -1):\n",
        "        #print(\"x , y 4 == \", l, start_column)\n",
        "        y.append(x[l][start_column])\n",
        "        #print(\"Y VAL 4 == \", y)\n",
        "      \n",
        "      start_column += 1\n",
        "\n",
        "      layer -= 1\n",
        "    \n",
        "\n",
        "\n",
        "    print(y)\n",
        "\n",
        "    \n",
        "        \n",
        "      \n",
        "      \n",
        "    \n",
        "    \n",
        "    \n",
        "solution = Traverse()\n",
        "solution.rotate90([\n",
        "    [1, 2, 3, 4],\n",
        "    [5, 6, 7, 8],\n",
        "    [0, 8, 7, 1]])\n",
        "\n",
        "print(\"=============================================\")\n",
        "\n",
        "solution.rotate90([\n",
        "    [1, 2, 3, 4, 3],\n",
        "    [5, 6, 7, 8, 4],\n",
        "    [0, 8, 7, 1, 6],\n",
        "    [2, 18, 37, 31, 46]])\n",
        "\n",
        "print(\"=============================================\")\n",
        "\n",
        "solution.rotate90([\n",
        "    [1, 2, 3, 4],\n",
        "    [5, 6, 7, 8],\n",
        "    [0, 8, 7, 1],\n",
        "    [2, 18, 37, 31]])"
      ],
      "execution_count": 1,
      "outputs": [
        {
          "output_type": "stream",
          "text": [
            "[1, 2, 3, 4, 8, 1, 7, 8, 0, 5, 6, 7]\n",
            "=============================================\n",
            "[1, 2, 3, 4, 3, 4, 6, 46, 31, 37, 18, 2, 0, 5, 6, 7, 8, 1, 7, 8]\n",
            "=============================================\n",
            "[1, 2, 3, 4, 8, 1, 31, 37, 18, 2, 0, 5, 6, 7, 7, 8]\n"
          ],
          "name": "stdout"
        }
      ]
    },
    {
      "cell_type": "code",
      "metadata": {
        "colab": {
          "base_uri": "https://localhost:8080/"
        },
        "id": "DH92HYyPAF3r",
        "outputId": "8e2131a1-2b7e-4c5f-e938-cec92f752247"
      },
      "source": [
        "def spiral_traversal(matrix):\n",
        "    res = []\n",
        "    if len(matrix) == 0:\n",
        "        return res\n",
        "    row_begin = 0\n",
        "    row_end = len(matrix) - 1\n",
        "    col_begin = 0\n",
        "    col_end = len(matrix[0]) - 1\n",
        "\n",
        "    while row_begin <= row_end and col_begin <= col_end:\n",
        "        for i in range(col_begin, col_end+1):\n",
        "            res.append(matrix[row_begin][i])\n",
        "        row_begin += 1\n",
        "\n",
        "        for i in range(row_begin, row_end+1):\n",
        "            res.append(matrix[i][col_end])\n",
        "        col_end -= 1\n",
        "\n",
        "        if row_begin <= row_end:\n",
        "            for i in range(col_end, col_begin-1, -1):\n",
        "                res.append(matrix[row_end][i])\n",
        "        row_end -= 1\n",
        "\n",
        "        if col_begin <= col_end:\n",
        "            for i in range(row_end, row_begin-1, -1):\n",
        "                res.append(matrix[i][col_begin])\n",
        "        col_begin += 1\n",
        "\n",
        "    return res\n",
        "\n",
        "spiral_traversal([[1, 2, 3, 4],\n",
        "    [5, 6, 7, 8],\n",
        "    [0, 8, 7, 1]])"
      ],
      "execution_count": 2,
      "outputs": [
        {
          "output_type": "execute_result",
          "data": {
            "text/plain": [
              "[1, 2, 3, 4, 8, 1, 7, 8, 0, 5, 6, 7]"
            ]
          },
          "metadata": {
            "tags": []
          },
          "execution_count": 2
        }
      ]
    },
    {
      "cell_type": "code",
      "metadata": {
        "id": "y-xuAVuGAI8f"
      },
      "source": [
        ""
      ],
      "execution_count": null,
      "outputs": []
    }
  ]
}